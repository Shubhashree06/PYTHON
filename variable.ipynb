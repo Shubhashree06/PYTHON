{
 "cells": [
  {
   "cell_type": "code",
   "execution_count": 1,
   "id": "26dbc266-908e-4008-be9e-fe6c56964eff",
   "metadata": {},
   "outputs": [
    {
     "data": {
      "text/plain": [
       "'NIELIT'"
      ]
     },
     "execution_count": 1,
     "metadata": {},
     "output_type": "execute_result"
    }
   ],
   "source": [
    "c = 'NIELIT'\n",
    "c"
   ]
  },
  {
   "cell_type": "code",
   "execution_count": 5,
   "id": "4752bd56-3de6-4050-87e2-6cfea9ec00eb",
   "metadata": {},
   "outputs": [
    {
     "data": {
      "text/plain": [
       "50"
      ]
     },
     "execution_count": 5,
     "metadata": {},
     "output_type": "execute_result"
    }
   ],
   "source": [
    "a = 50\n",
    "a"
   ]
  },
  {
   "cell_type": "code",
   "execution_count": 7,
   "id": "52d1fecf-a93a-48b5-86a6-ee06fb64ee1e",
   "metadata": {},
   "outputs": [
    {
     "data": {
      "text/plain": [
       "90"
      ]
     },
     "execution_count": 7,
     "metadata": {},
     "output_type": "execute_result"
    }
   ],
   "source": [
    "ib =90\n",
    "ib"
   ]
  },
  {
   "cell_type": "code",
   "execution_count": 9,
   "id": "44e002bd-3e44-4f17-8e57-3b7a20f21a33",
   "metadata": {},
   "outputs": [
    {
     "data": {
      "text/plain": [
       "'90'"
      ]
     },
     "execution_count": 9,
     "metadata": {},
     "output_type": "execute_result"
    }
   ],
   "source": [
    "c =\"90\"\n",
    "c"
   ]
  },
  {
   "cell_type": "code",
   "execution_count": 11,
   "id": "d003d7bc-cbf8-424b-9c32-f54709860f39",
   "metadata": {},
   "outputs": [
    {
     "data": {
      "text/plain": [
       "str"
      ]
     },
     "execution_count": 11,
     "metadata": {},
     "output_type": "execute_result"
    }
   ],
   "source": [
    "type(c)"
   ]
  },
  {
   "cell_type": "code",
   "execution_count": 13,
   "id": "668e4385-b930-4d3b-8e92-5398a2e54008",
   "metadata": {},
   "outputs": [
    {
     "data": {
      "text/plain": [
       "'90a'"
      ]
     },
     "execution_count": 13,
     "metadata": {},
     "output_type": "execute_result"
    }
   ],
   "source": [
    "cd=\"90a\"\n",
    "cd"
   ]
  },
  {
   "cell_type": "code",
   "execution_count": 19,
   "id": "79c98d0d-1f75-4d8f-8e34-549ffa1ff8ed",
   "metadata": {},
   "outputs": [
    {
     "data": {
      "text/plain": [
       "str"
      ]
     },
     "execution_count": 19,
     "metadata": {},
     "output_type": "execute_result"
    }
   ],
   "source": [
    "type(cd)"
   ]
  },
  {
   "cell_type": "code",
   "execution_count": 21,
   "id": "ddae798f-ec08-4a26-94d6-ba3c8f8edf1e",
   "metadata": {},
   "outputs": [
    {
     "name": "stdout",
     "output_type": "stream",
     "text": [
      "['False', 'None', 'True', 'and', 'as', 'assert', 'async', 'await', 'break', 'class', 'continue', 'def', 'del', 'elif', 'else', 'except', 'finally', 'for', 'from', 'global', 'if', 'import', 'in', 'is', 'lambda', 'nonlocal', 'not', 'or', 'pass', 'raise', 'return', 'try', 'while', 'with', 'yield']\n"
     ]
    }
   ],
   "source": [
    "import keyword\n",
    "print(keyword.kwlist)"
   ]
  },
  {
   "cell_type": "code",
   "execution_count": 23,
   "id": "36ec55cb-8307-4c4a-9118-d24841721a79",
   "metadata": {},
   "outputs": [
    {
     "data": {
      "text/plain": [
       "35"
      ]
     },
     "execution_count": 23,
     "metadata": {},
     "output_type": "execute_result"
    }
   ],
   "source": [
    "len(keyword.kwlist)"
   ]
  },
  {
   "cell_type": "code",
   "execution_count": 25,
   "id": "ea2d7934-fee2-4aa4-9b97-971edf4a5bf6",
   "metadata": {},
   "outputs": [
    {
     "data": {
      "text/plain": [
       "'9563'"
      ]
     },
     "execution_count": 25,
     "metadata": {},
     "output_type": "execute_result"
    }
   ],
   "source": [
    "false = \"9563\"\n",
    "false"
   ]
  },
  {
   "cell_type": "code",
   "execution_count": 27,
   "id": "09766186-5ca9-454c-983b-6f9bce23472d",
   "metadata": {},
   "outputs": [
    {
     "ename": "SyntaxError",
     "evalue": "invalid decimal literal (466779400.py, line 1)",
     "output_type": "error",
     "traceback": [
      "\u001b[1;36m  Cell \u001b[1;32mIn[27], line 1\u001b[1;36m\u001b[0m\n\u001b[1;33m    1b = 90\u001b[0m\n\u001b[1;37m    ^\u001b[0m\n\u001b[1;31mSyntaxError\u001b[0m\u001b[1;31m:\u001b[0m invalid decimal literal\n"
     ]
    }
   ],
   "source": [
    "1b = 90\n",
    "1b"
   ]
  },
  {
   "cell_type": "code",
   "execution_count": 31,
   "id": "1e008ea0-2bc0-48e7-9bba-11a2fd099dd6",
   "metadata": {},
   "outputs": [
    {
     "data": {
      "text/plain": [
       "504"
      ]
     },
     "execution_count": 31,
     "metadata": {},
     "output_type": "execute_result"
    }
   ],
   "source": [
    "b_6 = 504\n",
    "b_6"
   ]
  },
  {
   "cell_type": "code",
   "execution_count": 33,
   "id": "c485ed49-5875-41c3-9c2c-544548c7a86a",
   "metadata": {},
   "outputs": [
    {
     "data": {
      "text/plain": [
       "2634421866192"
      ]
     },
     "execution_count": 33,
     "metadata": {},
     "output_type": "execute_result"
    }
   ],
   "source": [
    "id(b_6)"
   ]
  },
  {
   "cell_type": "code",
   "execution_count": 35,
   "id": "c6bad4fe-2f49-495a-b59b-a6fb37fbbdb1",
   "metadata": {},
   "outputs": [
    {
     "data": {
      "text/plain": [
       "2634421870704"
      ]
     },
     "execution_count": 35,
     "metadata": {},
     "output_type": "execute_result"
    }
   ],
   "source": [
    "v=503\n",
    "id(v)"
   ]
  },
  {
   "cell_type": "code",
   "execution_count": 37,
   "id": "399f48d6-602a-4b0e-ac96-b1f36453b18c",
   "metadata": {},
   "outputs": [
    {
     "data": {
      "text/plain": [
       "2634422775344"
      ]
     },
     "execution_count": 37,
     "metadata": {},
     "output_type": "execute_result"
    }
   ],
   "source": [
    "id(c)"
   ]
  },
  {
   "cell_type": "code",
   "execution_count": 39,
   "id": "afb1162e-9eab-42ec-98e7-13eebdf0dbcb",
   "metadata": {},
   "outputs": [
    {
     "data": {
      "text/plain": [
       "140704970623368"
      ]
     },
     "execution_count": 39,
     "metadata": {},
     "output_type": "execute_result"
    }
   ],
   "source": [
    "d= 52\n",
    "id(d)"
   ]
  },
  {
   "cell_type": "code",
   "execution_count": null,
   "id": "27adac89-f485-4d2d-9c01-1402e427954b",
   "metadata": {},
   "outputs": [],
   "source": [
    "a= 10\n",
    "b= 30\n",
    "sum= a+b\n",
    "print(\"The summation of two numbers are sum\","
   ]
  }
 ],
 "metadata": {
  "kernelspec": {
   "display_name": "Python 3 (ipykernel)",
   "language": "python",
   "name": "python3"
  },
  "language_info": {
   "codemirror_mode": {
    "name": "ipython",
    "version": 3
   },
   "file_extension": ".py",
   "mimetype": "text/x-python",
   "name": "python",
   "nbconvert_exporter": "python",
   "pygments_lexer": "ipython3",
   "version": "3.11.7"
  }
 },
 "nbformat": 4,
 "nbformat_minor": 5
}
