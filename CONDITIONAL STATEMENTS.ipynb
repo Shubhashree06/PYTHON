{
 "cells": [
  {
   "cell_type": "markdown",
   "id": "49c9ae59-d9fb-4eb5-8579-93ea9fb09045",
   "metadata": {},
   "source": [
    "BLOCK STRUCTURE"
   ]
  },
  {
   "cell_type": "code",
   "execution_count": 8,
   "id": "1294f07d-fbe7-4978-b792-21e9f5eddf7d",
   "metadata": {},
   "outputs": [
    {
     "name": "stdout",
     "output_type": "stream",
     "text": [
      "hi\n",
      "sweety\n"
     ]
    }
   ],
   "source": [
    "if 1<2:\n",
    "    print('hi')\n",
    "    print('sweety')"
   ]
  },
  {
   "cell_type": "code",
   "execution_count": 18,
   "id": "27e63302-c288-4cf0-8e30-79e3e93f4734",
   "metadata": {},
   "outputs": [],
   "source": [
    "if 1>2:\n",
    "    print('hi')\n",
    "    print('sweety')"
   ]
  },
  {
   "cell_type": "code",
   "execution_count": 26,
   "id": "aef9dfa6-3b61-4591-98d7-afca72860ba8",
   "metadata": {},
   "outputs": [
    {
     "data": {
      "text/plain": [
       "True"
      ]
     },
     "execution_count": 26,
     "metadata": {},
     "output_type": "execute_result"
    }
   ],
   "source": [
    "bool(3)"
   ]
  },
  {
   "cell_type": "code",
   "execution_count": 28,
   "id": "cf1571cd-b661-4356-897c-4038be49bf6d",
   "metadata": {},
   "outputs": [
    {
     "data": {
      "text/plain": [
       "1"
      ]
     },
     "execution_count": 28,
     "metadata": {},
     "output_type": "execute_result"
    }
   ],
   "source": [
    "int(True)"
   ]
  },
  {
   "cell_type": "code",
   "execution_count": 30,
   "id": "0a3bcb32-bcd5-42be-abcd-a66f00d140f1",
   "metadata": {},
   "outputs": [
    {
     "data": {
      "text/plain": [
       "True"
      ]
     },
     "execution_count": 30,
     "metadata": {},
     "output_type": "execute_result"
    }
   ],
   "source": [
    "bool(-1)"
   ]
  },
  {
   "cell_type": "code",
   "execution_count": 32,
   "id": "6097dc45-6270-481c-9db3-de4bfddba307",
   "metadata": {},
   "outputs": [
    {
     "data": {
      "text/plain": [
       "False"
      ]
     },
     "execution_count": 32,
     "metadata": {},
     "output_type": "execute_result"
    }
   ],
   "source": [
    "bool(0)"
   ]
  },
  {
   "cell_type": "code",
   "execution_count": 34,
   "id": "1fa71e5e-76ba-429c-b842-d6d24efeed33",
   "metadata": {},
   "outputs": [
    {
     "data": {
      "text/plain": [
       "True"
      ]
     },
     "execution_count": 34,
     "metadata": {},
     "output_type": "execute_result"
    }
   ],
   "source": [
    "bool(-0.5)"
   ]
  },
  {
   "cell_type": "code",
   "execution_count": 36,
   "id": "1dfb7982-e6a2-4d20-a028-7458e5452975",
   "metadata": {},
   "outputs": [
    {
     "data": {
      "text/plain": [
       "-0.22"
      ]
     },
     "execution_count": 36,
     "metadata": {},
     "output_type": "execute_result"
    }
   ],
   "source": [
    "float(-0.22)"
   ]
  },
  {
   "cell_type": "markdown",
   "id": "22f345ee-168d-409e-8159-fe307f9a5afc",
   "metadata": {},
   "source": [
    "if-elif-else SYNTAX"
   ]
  },
  {
   "cell_type": "code",
   "execution_count": 39,
   "id": "58a70461-035a-4d84-b5d0-d2976d65746d",
   "metadata": {},
   "outputs": [
    {
     "name": "stdout",
     "output_type": "stream",
     "text": [
      "first\n"
     ]
    }
   ],
   "source": [
    "if 2==2:\n",
    "    print('first')\n",
    "elif 3==3:\n",
    "    print('last')"
   ]
  },
  {
   "cell_type": "code",
   "execution_count": 41,
   "id": "bfc0b689-0047-4894-ba7e-9fdb8eef0ffb",
   "metadata": {},
   "outputs": [
    {
     "name": "stdout",
     "output_type": "stream",
     "text": [
      "Grade B\n"
     ]
    }
   ],
   "source": [
    "y =62\n",
    "if (y>90):\n",
    "    print(\"Grade A\")\n",
    "elif (y>60):\n",
    "    print(\"Grade B\")\n",
    "elif (y>40):\n",
    "    print(\"Grade C\")\n",
    "else:\n",
    "    print(\"Grade F\")\n"
   ]
  },
  {
   "cell_type": "code",
   "execution_count": 77,
   "id": "bc5fd723-e4b1-4b9d-8105-b7fd009b6ae6",
   "metadata": {},
   "outputs": [
    {
     "name": "stdout",
     "output_type": "stream",
     "text": [
      "ALL IS WELL IN THE WORLD\n"
     ]
    }
   ],
   "source": [
    "if 1 == 3:\n",
    "    print(\"How did that happen\")\n",
    "elif 1>3:\n",
    "    print (\"Yikes\")\n",
    "else:\n",
    "    print(\"ALL IS WELL IN THE WORLD\")"
   ]
  },
  {
   "cell_type": "code",
   "execution_count": 54,
   "id": "efa56ede-7418-473b-85c5-5ecdfedb5368",
   "metadata": {},
   "outputs": [
    {
     "name": "stdout",
     "output_type": "stream",
     "text": [
      "Negative number\n"
     ]
    }
   ],
   "source": [
    "num = 10\n",
    "if num>= 0:\n",
    "    if num==0:\n",
    "        print(\"not\")\n",
    "    else:\n",
    "        print(\"Negative number\")\n",
    "else:\n",
    "        print(\"Positive number\")\n",
    "        "
   ]
  },
  {
   "cell_type": "code",
   "execution_count": 52,
   "id": "c2863f5b-cf3b-450d-bdb9-7c332d486252",
   "metadata": {},
   "outputs": [
    {
     "name": "stdin",
     "output_type": "stream",
     "text": [
      "enter your pin 1234\n",
      "with draw amount: 1000\n"
     ]
    },
    {
     "name": "stdout",
     "output_type": "stream",
     "text": [
      "1000 sucessfully transaction completed\n"
     ]
    }
   ],
   "source": [
    "# next program on bank transaction using conditional statements\n",
    "amount=20000\n",
    "pin=1234\n",
    "if (int(input('enter your pin'))==1234):\n",
    "    with_draw=int(input('with draw amount:'))\n",
    "    if (with_draw<=amount):\n",
    "        print(with_draw,'sucessfully transaction completed')\n",
    "    else:\n",
    "        print(with_draw,'not sufficient funds in your account')\n",
    "else:\n",
    "  print('invalid pin number')"
   ]
  },
  {
   "cell_type": "code",
   "execution_count": 1,
   "id": "f9a2f731-2c55-42b6-8140-43dcd5187846",
   "metadata": {},
   "outputs": [],
   "source": [
    "numbers = [1,2,3,4]\n",
    "for num in numbers:\n",
    "    if num==4:\n",
    "        break\n",
    "        print(num)"
   ]
  },
  {
   "cell_type": "code",
   "execution_count": 9,
   "id": "533a96bd-29b7-49b0-a815-8cc646774a02",
   "metadata": {},
   "outputs": [],
   "source": [
    "numbers = [1,2,3,4]\n",
    "for num in numbers:\n",
    "    if num==4:\n",
    "        break\n",
    "        print(4)"
   ]
  },
  {
   "cell_type": "code",
   "execution_count": 11,
   "id": "dbcefbc0-91c2-4598-ab7a-81b639f18d34",
   "metadata": {},
   "outputs": [
    {
     "name": "stdout",
     "output_type": "stream",
     "text": [
      "1\n",
      "3\n",
      "5\n"
     ]
    }
   ],
   "source": [
    "numbers=[1,2,3,4,5]\n",
    "for num in numbers:\n",
    "    if num%2==0:\n",
    "        continue\n",
    "    print(num)"
   ]
  },
  {
   "cell_type": "markdown",
   "id": "597b4520-6cc1-4c4f-84a6-0e8918c6e249",
   "metadata": {},
   "source": [
    "WHILE LOOP"
   ]
  },
  {
   "cell_type": "code",
   "execution_count": 16,
   "id": "7c6c08a6-34a5-45df-a6eb-e4b9bf9aee52",
   "metadata": {},
   "outputs": [
    {
     "name": "stdout",
     "output_type": "stream",
     "text": [
      "x is  0\n",
      "x is  1\n",
      "x is  2\n",
      "x is  3\n",
      "x is  4\n",
      "x is  5\n",
      "x is  6\n",
      "x is  7\n"
     ]
    }
   ],
   "source": [
    "x=0\n",
    "while x<8:\n",
    "    print(\"x is \",x)\n",
    "    x=x+1"
   ]
  },
  {
   "cell_type": "code",
   "execution_count": 18,
   "id": "93bb6b9e-a2c4-4f48-92d8-b86aa29b7489",
   "metadata": {},
   "outputs": [
    {
     "name": "stdout",
     "output_type": "stream",
     "text": [
      "1520\n"
     ]
    }
   ],
   "source": [
    "i=100\n",
    "s=20\n",
    "while i<=500:\n",
    "    s=s+i\n",
    "    i=i+100\n",
    "print(s)"
   ]
  },
  {
   "cell_type": "code",
   "execution_count": 20,
   "id": "eba513f6-39dd-4b23-9f32-def1f42033c7",
   "metadata": {},
   "outputs": [
    {
     "name": "stdout",
     "output_type": "stream",
     "text": [
      "0 1 2 3 4 5 6 7 8 9 10 11 12 13 14 15 16 17 18 19 20 21 22 23 24 25 26 27 28 29 30 31 32 33 34 35 36 37 38 39 40 41 42 43 44 45 46 47 48 49 50 51 52 53 54 55 56 57 58 59 60 61 62 63 64 65 66 67 68 69 70 71 72 73 74 75 76 77 78 79 80 81 82 83 84 85 86 87 88 89 90 91 92 93 94 95 96 97 98 99 100 "
     ]
    }
   ],
   "source": [
    " i=0\n",
    "while(i<=100):\n",
    "    print(i,end=' ')\n",
    "    i=i+1"
   ]
  },
  {
   "cell_type": "code",
   "execution_count": 24,
   "id": "bdcd94dd-a44a-4ae6-bacb-9cde71b5a6b5",
   "metadata": {},
   "outputs": [
    {
     "name": "stdin",
     "output_type": "stream",
     "text": [
      "enter a value: 4\n",
      "enter a value: 4\n",
      "enter a value: 5\n",
      "enter a value: 5\n",
      "enter a value: done\n"
     ]
    },
    {
     "name": "stdout",
     "output_type": "stream",
     "text": [
      "18\n"
     ]
    }
   ],
   "source": [
    "s=0\n",
    "while True:\n",
    "    a=input('enter a value:')\n",
    "    if(a=='done'):\n",
    "        break\n",
    "    s=s+int(a)\n",
    "print(s)"
   ]
  },
  {
   "cell_type": "code",
   "execution_count": null,
   "id": "a7901b8c-a388-4dd3-8d94-914eb0d2310a",
   "metadata": {},
   "outputs": [],
   "source": []
  }
 ],
 "metadata": {
  "kernelspec": {
   "display_name": "Python 3 (ipykernel)",
   "language": "python",
   "name": "python3"
  },
  "language_info": {
   "codemirror_mode": {
    "name": "ipython",
    "version": 3
   },
   "file_extension": ".py",
   "mimetype": "text/x-python",
   "name": "python",
   "nbconvert_exporter": "python",
   "pygments_lexer": "ipython3",
   "version": "3.11.7"
  }
 },
 "nbformat": 4,
 "nbformat_minor": 5
}
