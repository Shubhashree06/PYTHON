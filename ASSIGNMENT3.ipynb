{
 "cells": [
  {
   "cell_type": "markdown",
   "id": "58275c55",
   "metadata": {},
   "source": [
    "# ASSIGNMENT3"
   ]
  },
  {
   "cell_type": "code",
   "execution_count": 1,
   "id": "81c94168",
   "metadata": {},
   "outputs": [
    {
     "name": "stdout",
     "output_type": "stream",
     "text": [
      "Maximum number is: 50\n"
     ]
    }
   ],
   "source": [
    "def max_in_list(numbers):\n",
    "    return max(numbers)\n",
    "\n",
    "# Example usage\n",
    "numbers = [10, 20, 30, 40, 50]\n",
    "print(\"Maximum number is:\", max_in_list(numbers))\n"
   ]
  },
  {
   "cell_type": "code",
   "execution_count": 2,
   "id": "cb64ea21",
   "metadata": {},
   "outputs": [
    {
     "name": "stdout",
     "output_type": "stream",
     "text": [
      "Factorial of 5 is 120\n"
     ]
    }
   ],
   "source": [
    "def factorial(n):\n",
    "    if n == 0:\n",
    "        return 1\n",
    "    else:\n",
    "        return n * factorial(n - 1)\n",
    "\n",
    "# Example usage\n",
    "num = 5\n",
    "print(\"Factorial of\", num, \"is\", factorial(num))\n"
   ]
  },
  {
   "cell_type": "code",
   "execution_count": 3,
   "id": "fdbeb7fd",
   "metadata": {},
   "outputs": [
    {
     "name": "stdout",
     "output_type": "stream",
     "text": [
      "Simple Interest is: 100.0\n"
     ]
    }
   ],
   "source": [
    "def simple_interest(principal, rate, time):\n",
    "    return (principal * rate * time) / 100\n",
    "\n",
    "# Example usage\n",
    "P = 1000  # Principal\n",
    "R = 5     # Rate\n",
    "T = 2     # Time\n",
    "print(\"Simple Interest is:\", simple_interest(P, R, T))\n"
   ]
  },
  {
   "cell_type": "code",
   "execution_count": 4,
   "id": "1def413b",
   "metadata": {},
   "outputs": [
    {
     "name": "stdout",
     "output_type": "stream",
     "text": [
      "Compound Interest is: 104.4861011814121\n"
     ]
    }
   ],
   "source": [
    "def compound_interest(principal, rate, time, n):\n",
    "    amount = principal * (1 + rate / (100 * n)) ** (n * time)\n",
    "    return amount - principal\n",
    "\n",
    "# Example usage\n",
    "P = 1000  # Principal\n",
    "R = 5     # Rate\n",
    "T = 2     # Time\n",
    "N = 4     # Compounded quarterly\n",
    "print(\"Compound Interest is:\", compound_interest(P, R, T, N))\n"
   ]
  },
  {
   "cell_type": "code",
   "execution_count": 5,
   "id": "adb4c99b",
   "metadata": {},
   "outputs": [
    {
     "name": "stdout",
     "output_type": "stream",
     "text": [
      "153 is an Armstrong number: True\n"
     ]
    }
   ],
   "source": [
    "def is_armstrong_number(num):\n",
    "    num_str = str(num)\n",
    "    num_len = len(num_str)\n",
    "    sum_of_powers = sum(int(digit) ** num_len for digit in num_str)\n",
    "    return num == sum_of_powers\n",
    "\n",
    "# Example usage\n",
    "num = 153\n",
    "print(num, \"is an Armstrong number:\", is_armstrong_number(num))\n"
   ]
  },
  {
   "cell_type": "code",
   "execution_count": 6,
   "id": "0ea22f06",
   "metadata": {},
   "outputs": [
    {
     "name": "stdout",
     "output_type": "stream",
     "text": [
      "Area of the circle is: 78.53981633974483\n"
     ]
    }
   ],
   "source": [
    "import math\n",
    "\n",
    "def area_of_circle(radius):\n",
    "    return math.pi * radius ** 2\n",
    "\n",
    "# Example usage\n",
    "radius = 5\n",
    "print(\"Area of the circle is:\", area_of_circle(radius))\n"
   ]
  },
  {
   "cell_type": "code",
   "execution_count": 7,
   "id": "708057d3",
   "metadata": {},
   "outputs": [
    {
     "name": "stdout",
     "output_type": "stream",
     "text": [
      "Prime numbers between 10 and 50 are: [11, 13, 17, 19, 23, 29, 31, 37, 41, 43, 47]\n"
     ]
    }
   ],
   "source": [
    "def is_prime(n):\n",
    "    if n <= 1:\n",
    "        return False\n",
    "    for i in range(2, int(n**0.5) + 1):\n",
    "        if n % i == 0:\n",
    "            return False\n",
    "    return True\n",
    "\n",
    "def primes_in_interval(start, end):\n",
    "    return [num for num in range(start, end + 1) if is_prime(num)]\n",
    "\n",
    "# Example usage\n",
    "start = 10\n",
    "end = 50\n",
    "print(\"Prime numbers between\", start, \"and\", end, \"are:\", primes_in_interval(start, end))\n"
   ]
  },
  {
   "cell_type": "code",
   "execution_count": 8,
   "id": "4b6a89f5",
   "metadata": {},
   "outputs": [
    {
     "name": "stdout",
     "output_type": "stream",
     "text": [
      "29 is a prime number: True\n"
     ]
    }
   ],
   "source": [
    "def is_prime(n):\n",
    "    if n <= 1:\n",
    "        return False\n",
    "    for i in range(2, int(n**0.5) + 1):\n",
    "        if n % i == 0:\n",
    "            return False\n",
    "    return True\n",
    "\n",
    "# Example usage\n",
    "num = 29\n",
    "print(num, \"is a prime number:\", is_prime(num))\n"
   ]
  },
  {
   "cell_type": "code",
   "execution_count": 9,
   "id": "60c8e0b6",
   "metadata": {},
   "outputs": [
    {
     "name": "stdout",
     "output_type": "stream",
     "text": [
      "The 10 th Fibonacci number is: 34\n"
     ]
    }
   ],
   "source": [
    "def fibonacci(n):\n",
    "    if n <= 0:\n",
    "        return \"Invalid input\"\n",
    "    elif n == 1:\n",
    "        return 0\n",
    "    elif n == 2:\n",
    "        return 1\n",
    "    else:\n",
    "        a, b = 0, 1\n",
    "        for _ in range(2, n):\n",
    "            a, b = b, a + b\n",
    "        return b\n",
    "\n",
    "# Example usage\n",
    "n = 10\n",
    "print(\"The\", n, \"th Fibonacci number is:\", fibonacci(n))\n"
   ]
  },
  {
   "cell_type": "code",
   "execution_count": 10,
   "id": "ff0aac4c",
   "metadata": {},
   "outputs": [
    {
     "name": "stdout",
     "output_type": "stream",
     "text": [
      "21 is a Fibonacci number: True\n"
     ]
    }
   ],
   "source": [
    "def is_perfect_square(x):\n",
    "    s = int(x**0.5)\n",
    "    return s * s == x\n",
    "\n",
    "def is_fibonacci_number(n):\n",
    "    return is_perfect_square(5 * n * n + 4) or is_perfect_square(5 * n * n - 4)\n",
    "\n",
    "# Example usage\n",
    "num = 21\n",
    "print(num, \"is a Fibonacci number:\", is_fibonacci_number(num))\n"
   ]
  }
 ],
 "metadata": {
  "kernelspec": {
   "display_name": "Python 3 (ipykernel)",
   "language": "python",
   "name": "python3"
  },
  "language_info": {
   "codemirror_mode": {
    "name": "ipython",
    "version": 3
   },
   "file_extension": ".py",
   "mimetype": "text/x-python",
   "name": "python",
   "nbconvert_exporter": "python",
   "pygments_lexer": "ipython3",
   "version": "3.11.3"
  }
 },
 "nbformat": 4,
 "nbformat_minor": 5
}
