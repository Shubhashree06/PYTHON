{
 "cells": [
  {
   "cell_type": "code",
   "execution_count": 13,
   "id": "6e218908-cfe1-4d33-af77-e1f5d670928c",
   "metadata": {},
   "outputs": [
    {
     "name": "stdin",
     "output_type": "stream",
     "text": [
      "Ask me -  huy\n"
     ]
    },
    {
     "name": "stdout",
     "output_type": "stream",
     "text": [
      "Sorry, I don't understand that question.\n"
     ]
    },
    {
     "name": "stdin",
     "output_type": "stream",
     "text": [
      "Do you want to continue(y/n):  n\n"
     ]
    }
   ],
   "source": [
    "data = {\n",
    "        \"how are you\": \"Chat Bot: I'm good, functioning as expected!\",\n",
    "        \"what is your name\": \"Chat Bot: I'm a simple chat bot created in Python.\",\n",
    "        \"what can you do\": \"Chat Bot: I can answer simple questions and have a basic conversation.\",\n",
    "        \"tell me a joke\": \"Chat Bot: Why don't scientists trust atoms? Because they make up everything!\",\n",
    "        \"what is the capital of India\": \"Chat Bot: The capital of India is New Delhi.\",\n",
    "        \"who created you\": \"Chat Bot: I was created by a programmer using Python.\",\n",
    "        \"tell me a fun fact\": \"Chat Bot: Did you know that honey never spoils? Archaeologists have found pots of honey in ancient Egyptian tombs that are over 3,000 years old and still edible.\",\n",
    "        \"what is the square root of 144\": \"Chat Bot: The square root of 144 is 12.\",\n",
    "        \"who is the president of the India?\": \"Chat Bot: As of 2024, the president of the India is Draupadi Murmu.\",\n",
    "        \"convert 10 usd to eur\": \"Chat Bot: The exchange rate varies. As of now, 10 USD is approximately 9.10 EUR.\",\n",
    "        \" what is the weather like\": \"Chat Bot: I can't check the real time and weather you may check any website or weather app.\",\n",
    "        \"what is the largest mammal\": \"Chat Bot: The largest mammal is the blue whale.\",\n",
    "        \"what is the speed of light\": \"Chat Bot: The speed of light is approximately 299,792 kilometers per second (186,282 miles per second).\",\n",
    "        \"who was the first person on the moon\": \"Chat Bot: The first person on the moon was Neil Armstrong.\",\n",
    "        \"what is the tallest mountain in the world\": \"Chat Bot: The tallest mountain in the world is Mount Everest.\",\n",
    "        \"how many continents are there\": \"Chat Bot: There are seven continents: Africa, Antarctica, Asia, Europe, North America, Australia, and South America.\",\n",
    "        \"what is the smallest country in the world\": \"Chat Bot: The smallest country in the world by land area is Vatican City.\",\n",
    "        \"what is the chemical symbol for water\": \"Chat Bot: The chemical symbol for water is H2O.\",\n",
    "        \"who wrote 'To Kill a Mockingbird'\": \"Chat Bot: 'To Kill a Mockingbird' was written by Harper Lee.\",\n",
    "        \"what is the longest river in the world\": \"Chat Bot: The longest river in the world is the Nile River.\",\n",
    "        \"what is the largest desert in the world\": \"Chat Bot: The largest desert in the world is the Antarctic Desert.\",\n",
    "        \"who was the first president of the United States\": \"Chat Bot: The first president of the United States was George Washington.\",\n",
    "        \"what is the currency of Japan\": \"Chat Bot: The currency of Japan is the Japanese Yen.\",\n",
    "        \"who painted the Mona Lisa\": \"Chat Bot: The Mona Lisa was painted by Leonardo da Vinci.\",\n",
    "        \"what is the main ingredient in bread\": \"Chat Bot: The main ingredient in bread is flour.\",\n",
    "        \"who is known as the father of computers\": \"Chat Bot: Charles Babbage is known as the father of computers.\",\n",
    "        \"what is the largest planet in our solar system\": \"Chat Bot: The largest planet in our solar system is Jupiter.\",\n",
    "        \"what is the freezing point of water\": \"Chat Bot: The freezing point of water is 0 degrees Celsius or 32 degrees Fahrenheit.\",\n",
    "        \"who wrote the play 'Romeo and Juliet'\": \"Chat Bot: 'Romeo and Juliet' was written by William Shakespeare.\",\n",
    "        \"what is the largest ocean on Earth\": \"Chat Bot: The largest ocean on Earth is the Pacific Ocean.\",\n",
    "        \"what is the primary gas found in the Earth's atmosphere\": \"Chat Bot: The primary gas found in the Earth's atmosphere is nitrogen.\",\n",
    "        \"how many states are there in the United States\": \"Chat Bot: There are 50 states in the United States.\",\n",
    "        \"who developed the theory of r\": \"Chat Bot: The capital of France is Paris.\",\n",
    "        \"what is the hardest natural substance on Earth\": \"Chat Bot: The hardest natural substance on Earth is diamond.\",\n",
    "        \"who invented the telephone\": \"Chat Bot: The telephone was invented by Alexander Graham Bell.\",\n",
    "        \"what is the largest bone in the human body\": \"Chat Bot: The largest bone in the human body is the femur, or thigh bone.\",\n",
    "        \"what is the powerhouse of the cell\": \"Chat Bot: The powerhouse of the cell is the mitochondrion.\",\n",
    "        \"who discovered penicillin\": \"Chat Bot: Penicillin was discovered by Alexander Fleming.\",\n",
    "        \"what is the smallest unit of life\": \"Chat Bot: The smallest unit of life is the cell.\",\n",
    "        \"what is the capital of Germany\": \"Chat Bot: The capital of Germany is Berlin.\",\n",
    "        \"who wrote '1984'\": \"Chat Bot: '1984' was written by George Orwell.\",\n",
    "        \"what is the chemical symbol for gold\": \"Chat Bot: The chemical symbol for gold is Au.\",\n",
    "        \"who is the founder of Microsoft\": \"Chat Bot: Microsoft was founded by Bill Gates and Paul Allen.\",\n",
    "        \"what is the largest island in the world\": \"Chat Bot: The largest island in the world is Greenland.\",\n",
    "        \"who painted the Sistine Chapel ceiling\": \"Chat Bot: The Sistine Chapel ceiling was painted by Michelangelo.\",\n",
    "        \"what is the currency of the United Kingdom\": \"Chat Bot: The currency of the United Kingdom is the British Pound.\",\n",
    "        \"what is the distance between the Earth and the Sun\": \"Chat Bot: The average distance between the Earth and the Sun is about 93 million miles or 150 million kilometers.\",\n",
    "        \"who wrote 'Pride and Prejudice'\": \"Chat Bot: 'Pride and Prejudice' was written by Jane Austen.\",\n",
    "        \"what is the boiling point of water\": \"Chat Bot: The boiling point of water is 100 degrees Celsius or 212 degrees Fahrenheit.\",\n",
    "        \"who is the author of the Harry Potter series\": \"Chat Bot: The Harry Potter series was written by J.K. Rowling.\",\n",
    "        \"what is the capital of Australia\": \"Chat Bot: The capital of Australia is Canberra.\",\n",
    "        \"who invented the light bulb\": \"Chat Bot: The light bulb was invented by Thomas Edison.\",\n",
    "        \"what is the most spoken language in the world\": \"Chat Bot: The most spoken language in the world by number of native speakers is Mandarin Chinese.\",\n",
    "        \"what is the capital of Canada\": \"Chat Bot: The capital of Canada is Ottawa.\",\n",
    "        \"who was the first woman to win a Nobel Prize\": \"Chat Bot: The first woman to win a Nobel Prize was Marie Curie.\",\n",
    "        \"what is the largest continent\": \"Chat Bot: The largest continent by land area is Asia.\",\n",
    "        \"who invented the World Wide Web\": \"Chat Bot: The World Wide Web was invented by Tim Berners-Lee.\"\n",
    "       }\n",
    "\n",
    "# Get input from the user\n",
    "ch = 'y'\n",
    "# Check if the input exists as a key in the dictionary\n",
    "while (ch == 'y'):\n",
    "    i = input(\"Ask me - \")\n",
    "    if i in data:\n",
    "        # Print the corresponding value\n",
    "        print(data[i])\n",
    "    else:\n",
    "        # Handle the case where the key doesn't exist\n",
    "        print(\"Sorry, I don't understand that question.\")\n",
    "    ch = input(\"Do you want to continue(y/n): \")\n"
   ]
  },
  {
   "cell_type": "code",
   "execution_count": null,
   "id": "396cd0e8-2f84-425c-9154-8daca0e27d88",
   "metadata": {},
   "outputs": [],
   "source": []
  }
 ],
 "metadata": {
  "kernelspec": {
   "display_name": "Python 3 (ipykernel)",
   "language": "python",
   "name": "python3"
  },
  "language_info": {
   "codemirror_mode": {
    "name": "ipython",
    "version": 3
   },
   "file_extension": ".py",
   "mimetype": "text/x-python",
   "name": "python",
   "nbconvert_exporter": "python",
   "pygments_lexer": "ipython3",
   "version": "3.11.7"
  }
 },
 "nbformat": 4,
 "nbformat_minor": 5
}
