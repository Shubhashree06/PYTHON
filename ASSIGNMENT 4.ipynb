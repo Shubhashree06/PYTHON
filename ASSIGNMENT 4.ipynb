{
 "cells": [
  {
   "cell_type": "markdown",
   "id": "f9601f4b",
   "metadata": {},
   "source": [
    "1.To perform the operations on a 1D array of the first 10 positive integers, we can use the NumPy library in Python. Here's the step-by-step process:\n",
    "\n",
    "Create a 1D array of the first 10 positive integers.\n",
    "Print the array.\n",
    "Find the sum of all elements in the array.\n",
    "Calculate the mean of the elements."
   ]
  },
  {
   "cell_type": "code",
   "execution_count": 7,
   "id": "70fbb258",
   "metadata": {},
   "outputs": [
    {
     "name": "stdout",
     "output_type": "stream",
     "text": [
      "Array: [ 1  2  3  4  5  6  7  8  9 10]\n",
      "Sum of all elements: 55\n",
      "Mean of elements: 5.5\n"
     ]
    }
   ],
   "source": [
    "import numpy as np\n",
    "\n",
    "# Create a 1D array of the first 10 positive integers\n",
    "array = np.arange(1, 11)\n",
    "\n",
    "# Print the array\n",
    "print(\"Array:\", array)\n",
    "\n",
    "# Find the sum of all elements in the array\n",
    "array_sum = np.sum(array)\n",
    "print(\"Sum of all elements:\", array_sum)\n",
    "\n",
    "# Calculate the mean of the elements\n",
    "array_mean = np.mean(array)\n",
    "print(\"Mean of elements:\", array_mean)\n"
   ]
  },
  {
   "cell_type": "markdown",
   "id": "6ceffcd7",
   "metadata": {},
   "source": [
    "## 2Create a 2D array of shape (3, 4) with random integers between 1 and 10.\n",
    "Print the array.\n",
    "Find the maximum and minimum values in the array.\n",
    "Calculate the sum of each row and each column."
   ]
  },
  {
   "cell_type": "code",
   "execution_count": 9,
   "id": "0f9f404b",
   "metadata": {},
   "outputs": [
    {
     "name": "stdout",
     "output_type": "stream",
     "text": [
      "2D Array:\n",
      " [[10  6  9  6]\n",
      " [ 2  7  5  6]\n",
      " [ 5  9  9  2]]\n",
      "Maximum value: 10\n",
      "Minimum value: 2\n",
      "Sum of each row: [31 20 25]\n",
      "Sum of each column: [17 22 23 14]\n"
     ]
    }
   ],
   "source": [
    "import numpy as np\n",
    "\n",
    "# Create a 2D array of shape (3, 4) with random integers between 1 and 10\n",
    "array_2d = np.random.randint(1, 11, size=(3, 4))\n",
    "\n",
    "# Print the array\n",
    "print(\"2D Array:\\n\", array_2d)\n",
    "\n",
    "# Find the maximum and minimum values in the array\n",
    "max_value = np.max(array_2d)\n",
    "min_value = np.min(array_2d)\n",
    "print(\"Maximum value:\", max_value)\n",
    "print(\"Minimum value:\", min_value)\n",
    "\n",
    "# Calculate the sum of each row and each column\n",
    "row_sums = np.sum(array_2d, axis=1)\n",
    "column_sums = np.sum(array_2d, axis=0)\n",
    "print(\"Sum of each row:\", row_sums)\n",
    "print(\"Sum of each column:\", column_sums)\n"
   ]
  },
  {
   "cell_type": "markdown",
   "id": "6b424398",
   "metadata": {},
   "source": [
    "### **3.Create a 1D array of 20 random integers between 1 and 100.**\n",
    "   - Print the array.\n",
    "   - Print the elements from index 5 to 15.\n",
    "   - Print every second element of the array."
   ]
  },
  {
   "cell_type": "code",
   "execution_count": 10,
   "id": "e9787942",
   "metadata": {},
   "outputs": [
    {
     "name": "stdout",
     "output_type": "stream",
     "text": [
      "1D Array: [85  4 79 58 46 80 41 96 70 32 96 12 48 21 97 82  6 58  1 18]\n",
      "Elements from index 5 to 15: [80 41 96 70 32 96 12 48 21 97 82]\n",
      "Every second element: [85 79 46 41 70 96 48 97  6  1]\n"
     ]
    }
   ],
   "source": [
    "import numpy as np\n",
    "\n",
    "# Create a 1D array of 20 random integers between 1 and 100\n",
    "array_1d = np.random.randint(1, 101, size=20)\n",
    "\n",
    "# Print the array\n",
    "print(\"1D Array:\", array_1d)\n",
    "\n",
    "# Print the elements from index 5 to 15\n",
    "print(\"Elements from index 5 to 15:\", array_1d[5:16])\n",
    "\n",
    "# Print every second element of the array\n",
    "print(\"Every second element:\", array_1d[::2])\n"
   ]
  },
  {
   "cell_type": "markdown",
   "id": "920e6811",
   "metadata": {},
   "source": [
    "4. **Create a 2D array of shape (5, 5) with random integers between 1 and 50.**\n",
    "   - Print the array.\n",
    "   - Extract and print the second row.\n",
    "   - Extract and print the third column.\n",
    "   - Extract and print a 3x3 subarray from the original array."
   ]
  },
  {
   "cell_type": "code",
   "execution_count": 11,
   "id": "2b8e7043",
   "metadata": {},
   "outputs": [
    {
     "name": "stdout",
     "output_type": "stream",
     "text": [
      "2D Array:\n",
      " [[34 32 31 17 34]\n",
      " [37  8 49  4 15]\n",
      " [43 15 42  7 14]\n",
      " [24 44 50 14 15]\n",
      " [20 34 18 50 19]]\n",
      "Second Row: [37  8 49  4 15]\n",
      "Third Column: [31 49 42 50 18]\n",
      "3x3 Subarray:\n",
      " [[ 8 49  4]\n",
      " [15 42  7]\n",
      " [44 50 14]]\n"
     ]
    }
   ],
   "source": [
    "import numpy as np\n",
    "\n",
    "# Create a 2D array of shape (5, 5) with random integers between 1 and 50\n",
    "array_2d = np.random.randint(1, 51, size=(5, 5))\n",
    "\n",
    "# Print the array\n",
    "print(\"2D Array:\\n\", array_2d)\n",
    "\n",
    "# Extract and print the second row\n",
    "second_row = array_2d[1, :]\n",
    "print(\"Second Row:\", second_row)\n",
    "\n",
    "# Extract and print the third column\n",
    "third_column = array_2d[:, 2]\n",
    "print(\"Third Column:\", third_column)\n",
    "\n",
    "# Extract and print a 3x3 subarray from the original array\n",
    "subarray_3x3 = array_2d[1:4, 1:4]\n",
    "print(\"3x3 Subarray:\\n\", subarray_3x3)\n"
   ]
  },
  {
   "cell_type": "markdown",
   "id": "7953b9c1",
   "metadata": {},
   "source": [
    "5. **Create two 1D arrays of 10 random integers each.**\n",
    "   - Concatenate the two arrays.\n",
    "   - Sort the concatenated array.\n",
    "   - Find the unique elements in the concatenated array."
   ]
  },
  {
   "cell_type": "code",
   "execution_count": 12,
   "id": "ebd67685",
   "metadata": {},
   "outputs": [
    {
     "name": "stdout",
     "output_type": "stream",
     "text": [
      "Array 1: [87 24 97 78 26 40 53 82 21 59]\n",
      "Array 2: [36 76 66 48 48 77 93 77 18 66]\n",
      "Concatenated Array: [87 24 97 78 26 40 53 82 21 59 36 76 66 48 48 77 93 77 18 66]\n",
      "Sorted Array: [18 21 24 26 36 40 48 48 53 59 66 66 76 77 77 78 82 87 93 97]\n",
      "Unique Elements: [18 21 24 26 36 40 48 53 59 66 76 77 78 82 87 93 97]\n"
     ]
    }
   ],
   "source": [
    "import numpy as np\n",
    "\n",
    "# Create two 1D arrays of 10 random integers each\n",
    "array1 = np.random.randint(1, 101, size=10)\n",
    "array2 = np.random.randint(1, 101, size=10)\n",
    "\n",
    "# Print the arrays\n",
    "print(\"Array 1:\", array1)\n",
    "print(\"Array 2:\", array2)\n",
    "\n",
    "# Concatenate the two arrays\n",
    "concatenated_array = np.concatenate((array1, array2))\n",
    "print(\"Concatenated Array:\", concatenated_array)\n",
    "\n",
    "# Sort the concatenated array\n",
    "sorted_array = np.sort(concatenated_array)\n",
    "print(\"Sorted Array:\", sorted_array)\n",
    "\n",
    "# Find the unique elements in the concatenated array\n",
    "unique_elements = np.unique(concatenated_array)\n",
    "print(\"Unique Elements:\", unique_elements)\n"
   ]
  },
  {
   "cell_type": "markdown",
   "id": "451c322c",
   "metadata": {},
   "source": [
    "6. **Create a 2D array of shape (4, 4) with random integers between 1 and 20.**\n",
    "   - Print the array.\n",
    "   - Flatten the array into a 1D array.\n",
    "   - Reshape the flattened array back into a 2D array of shape (2, 8)."
   ]
  },
  {
   "cell_type": "code",
   "execution_count": 13,
   "id": "6dd0fcbb",
   "metadata": {},
   "outputs": [
    {
     "name": "stdout",
     "output_type": "stream",
     "text": [
      "2D Array:\n",
      " [[ 8  5 18 11]\n",
      " [13 11 14  3]\n",
      " [15 15 17  8]\n",
      " [ 1  9  3 10]]\n",
      "Flattened Array: [ 8  5 18 11 13 11 14  3 15 15 17  8  1  9  3 10]\n",
      "Reshaped Array (2x8):\n",
      " [[ 8  5 18 11 13 11 14  3]\n",
      " [15 15 17  8  1  9  3 10]]\n"
     ]
    }
   ],
   "source": [
    "import numpy as np\n",
    "\n",
    "# Create a 2D array of shape (4, 4) with random integers between 1 and 20\n",
    "array_2d = np.random.randint(1, 21, size=(4, 4))\n",
    "\n",
    "# Print the array\n",
    "print(\"2D Array:\\n\", array_2d)\n",
    "\n",
    "# Flatten the array into a 1D array\n",
    "flattened_array = array_2d.flatten()\n",
    "print(\"Flattened Array:\", flattened_array)\n",
    "\n",
    "# Reshape the flattened array back into a 2D array of shape (2, 8)\n",
    "reshaped_array = flattened_array.reshape((2, 8))\n",
    "print(\"Reshaped Array (2x8):\\n\", reshaped_array)\n"
   ]
  },
  {
   "cell_type": "markdown",
   "id": "032e5b7c",
   "metadata": {},
   "source": [
    "7. **Create a 1D array of 15 random integers between 1 and 50.**\n",
    "   - Print the array.\n",
    "   - Calculate and print the standard deviation of the array.\n",
    "   - Find and print the index of the maximum value in the array.\n",
    "   - Normalize the array (scale the values to a range between 0 and 1)."
   ]
  },
  {
   "cell_type": "markdown",
   "id": "75730420",
   "metadata": {},
   "source": [
    "7. **Create a 1D array of 15 random integers between 1 and 50.**\n",
    "   - Print the array.\n",
    "   - Calculate and print the standard deviation of the array.\n",
    "   - Find and print the index of the maximum value in the array.\n",
    "   - Normalize the array (scale the values to a range between 0 and 1)."
   ]
  },
  {
   "cell_type": "code",
   "execution_count": 15,
   "id": "494f81c9",
   "metadata": {},
   "outputs": [
    {
     "name": "stdout",
     "output_type": "stream",
     "text": [
      "1D Array: [32 49 45 23 18 15 24 32 32 34 34 39  1 10 41]\n",
      "Standard Deviation: 12.903746226064222\n",
      "Index of Maximum Value: 1\n",
      "Normalized Array: [0.64583333 1.         0.91666667 0.45833333 0.35416667 0.29166667\n",
      " 0.47916667 0.64583333 0.64583333 0.6875     0.6875     0.79166667\n",
      " 0.         0.1875     0.83333333]\n"
     ]
    }
   ],
   "source": [
    "import numpy as np\n",
    "\n",
    "# Create a 1D array of 15 random integers between 1 and 50\n",
    "array_1d = np.random.randint(1, 51, size=15)\n",
    "\n",
    "# Print the array\n",
    "print(\"1D Array:\", array_1d)\n",
    "\n",
    "# Calculate and print the standard deviation of the array\n",
    "std_dev = np.std(array_1d)\n",
    "print(\"Standard Deviation:\", std_dev)\n",
    "\n",
    "# Find and print the index of the maximum value in the array\n",
    "max_index = np.argmax(array_1d)\n",
    "print(\"Index of Maximum Value:\", max_index)\n",
    "\n",
    "# Normalize the array (scale the values to a range between 0 and 1)\n",
    "normalized_array = (array_1d - np.min(array_1d)) / (np.max(array_1d) - np.min(array_1d))\n",
    "print(\"Normalized Array:\", normalized_array)\n"
   ]
  },
  {
   "cell_type": "markdown",
   "id": "f3f8182e",
   "metadata": {},
   "source": [
    "8. **Create two 2D arrays of shape (3, 3) with random integers between 1 and 10.**\n",
    "   - Print both arrays.\n",
    "   - Perform element-wise addition, subtraction, and multiplication of the arrays.\n",
    "   - Calculate the dot product of the arrays."
   ]
  },
  {
   "cell_type": "code",
   "execution_count": 16,
   "id": "25b72168",
   "metadata": {},
   "outputs": [
    {
     "name": "stdout",
     "output_type": "stream",
     "text": [
      "Array 1:\n",
      " [[ 8  5  7]\n",
      " [10 10  9]\n",
      " [ 7  5  2]]\n",
      "Array 2:\n",
      " [[ 9  3  3]\n",
      " [ 7 10  9]\n",
      " [ 4  5  3]]\n",
      "Element-wise Addition:\n",
      " [[17  8 10]\n",
      " [17 20 18]\n",
      " [11 10  5]]\n",
      "Element-wise Subtraction:\n",
      " [[-1  2  4]\n",
      " [ 3  0  0]\n",
      " [ 3  0 -1]]\n",
      "Element-wise Multiplication:\n",
      " [[ 72  15  21]\n",
      " [ 70 100  81]\n",
      " [ 28  25   6]]\n",
      "Dot Product:\n",
      " [[135 109  90]\n",
      " [196 175 147]\n",
      " [106  81  72]]\n"
     ]
    }
   ],
   "source": [
    "import numpy as np\n",
    "\n",
    "# Create two 2D arrays of shape (3, 3) with random integers between 1 and 10\n",
    "array1 = np.random.randint(1, 11, size=(3, 3))\n",
    "array2 = np.random.randint(1, 11, size=(3, 3))\n",
    "\n",
    "# Print both arrays\n",
    "print(\"Array 1:\\n\", array1)\n",
    "print(\"Array 2:\\n\", array2)\n",
    "\n",
    "# Perform element-wise addition, subtraction, and multiplication of the arrays\n",
    "addition = array1 + array2\n",
    "subtraction = array1 - array2\n",
    "multiplication = array1 * array2\n",
    "\n",
    "print(\"Element-wise Addition:\\n\", addition)\n",
    "print(\"Element-wise Subtraction:\\n\", subtraction)\n",
    "print(\"Element-wise Multiplication:\\n\", multiplication)\n",
    "\n",
    "# Calculate the dot product of the arrays\n",
    "dot_product = np.dot(array1, array2)\n",
    "print(\"Dot Product:\\n\", dot_product)\n"
   ]
  },
  {
   "cell_type": "code",
   "execution_count": null,
   "id": "33202770",
   "metadata": {},
   "outputs": [],
   "source": []
  }
 ],
 "metadata": {
  "kernelspec": {
   "display_name": "Python 3 (ipykernel)",
   "language": "python",
   "name": "python3"
  },
  "language_info": {
   "codemirror_mode": {
    "name": "ipython",
    "version": 3
   },
   "file_extension": ".py",
   "mimetype": "text/x-python",
   "name": "python",
   "nbconvert_exporter": "python",
   "pygments_lexer": "ipython3",
   "version": "3.11.3"
  }
 },
 "nbformat": 4,
 "nbformat_minor": 5
}
