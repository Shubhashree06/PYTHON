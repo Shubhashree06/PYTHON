{
 "cells": [
  {
   "cell_type": "markdown",
   "id": "762251d9",
   "metadata": {},
   "source": [
    "# ASSIGNMENT2"
   ]
  },
  {
   "cell_type": "code",
   "execution_count": 1,
   "id": "05c3e634",
   "metadata": {},
   "outputs": [
    {
     "name": "stdout",
     "output_type": "stream",
     "text": [
      "Enter first number: 30\n",
      "Enter second number: 30\n",
      "The sum of 30.0 and 30.0 is 60.0\n"
     ]
    }
   ],
   "source": [
    "#add two number by user input\n",
    "num1 = float(input(\"Enter first number: \"))\n",
    "num2 = float(input(\"Enter second number: \"))\n",
    "\n",
    "# Adding the two numbers\n",
    "sum = num1 + num2\n",
    "\n",
    "# Displaying the input and the output using .format\n",
    "print(\"The sum of {} and {} is {}\".format(num1, num2, sum))\n"
   ]
  },
  {
   "cell_type": "code",
   "execution_count": 2,
   "id": "d6a1b991",
   "metadata": {},
   "outputs": [
    {
     "name": "stdout",
     "output_type": "stream",
     "text": [
      "Enter a number to find the square root: 256\n",
      "The square root of 256.0 is 16.0\n"
     ]
    }
   ],
   "source": [
    "#find square root of the number\n",
    "import math\n",
    "num = float(input(\"Enter a number to find the square root: \"))\n",
    "\n",
    "# Finding the square root\n",
    "sqrt = math.sqrt(num)\n",
    "\n",
    "# Displaying the result\n",
    "print(\"The square root of {} is {}\".format(num, sqrt))\n"
   ]
  },
  {
   "cell_type": "code",
   "execution_count": 3,
   "id": "4f809135",
   "metadata": {},
   "outputs": [
    {
     "name": "stdout",
     "output_type": "stream",
     "text": [
      "Enter the base of the triangle: 10\n",
      "Enter the height of the triangle: 20\n",
      "The area of the triangle with base 10.0 and height 20.0 is 100.0\n"
     ]
    }
   ],
   "source": [
    "#to find area of the triangle\n",
    "base = float(input(\"Enter the base of the triangle: \"))\n",
    "height = float(input(\"Enter the height of the triangle: \"))\n",
    "\n",
    "# Calculating the area\n",
    "area = 0.5 * base * height\n",
    "\n",
    "# Displaying the result\n",
    "print(\"The area of the triangle with base {} and height {} is {}\".format(base, height, area))\n"
   ]
  },
  {
   "cell_type": "code",
   "execution_count": 4,
   "id": "06346f73",
   "metadata": {},
   "outputs": [
    {
     "name": "stdout",
     "output_type": "stream",
     "text": [
      "Enter value in kilometers: 40\n",
      "40.0 kilometers is equal to 24.85484 miles\n"
     ]
    }
   ],
   "source": [
    "# to convert kilometer to miles\n",
    "kilometers = float(input(\"Enter value in kilometers: \"))\n",
    "\n",
    "# Conversion factor\n",
    "conv_factor = 0.621371\n",
    "\n",
    "# Calculating miles\n",
    "miles = kilometers * conv_factor\n",
    "\n",
    "# Displaying the result\n",
    "print(\"{} kilometers is equal to {} miles\".format(kilometers, miles))\n"
   ]
  },
  {
   "cell_type": "code",
   "execution_count": 5,
   "id": "7e03a07b",
   "metadata": {},
   "outputs": [
    {
     "name": "stdout",
     "output_type": "stream",
     "text": [
      "Enter temperature in Celsius: 20\n",
      "20.0 Celsius is equal to 68.0 Fahrenheit\n"
     ]
    }
   ],
   "source": [
    "#Convert Celsius to fahrenehit\n",
    "celsius = float(input(\"Enter temperature in Celsius: \"))\n",
    "\n",
    "# Converting Celsius to Fahrenheit\n",
    "fahrenheit = (celsius * 9/5) + 32\n",
    "\n",
    "# Displaying the result\n",
    "print(\"{} Celsius is equal to {} Fahrenheit\".format(celsius, fahrenheit))\n"
   ]
  },
  {
   "cell_type": "code",
   "execution_count": null,
   "id": "7f48c9c0",
   "metadata": {},
   "outputs": [],
   "source": [
    "#  Python Program to Find ASCII Value of Character\n",
    "char = input(\"Enter a character: \")\n",
    "\n",
    "# Getting the ASCII value\n",
    "ascii_value = ord(char)\n",
    "\n",
    "# Displaying the result\n",
    "print(\"The ASCII value of '{}' is {}\".format(char, ascii_value))\n"
   ]
  },
  {
   "cell_type": "code",
   "execution_count": null,
   "id": "e09198d6",
   "metadata": {},
   "outputs": [],
   "source": []
  },
  {
   "cell_type": "code",
   "execution_count": null,
   "id": "b4cde040",
   "metadata": {},
   "outputs": [],
   "source": []
  }
 ],
 "metadata": {
  "kernelspec": {
   "display_name": "Python 3 (ipykernel)",
   "language": "python",
   "name": "python3"
  },
  "language_info": {
   "codemirror_mode": {
    "name": "ipython",
    "version": 3
   },
   "file_extension": ".py",
   "mimetype": "text/x-python",
   "name": "python",
   "nbconvert_exporter": "python",
   "pygments_lexer": "ipython3",
   "version": "3.11.3"
  }
 },
 "nbformat": 4,
 "nbformat_minor": 5
}
